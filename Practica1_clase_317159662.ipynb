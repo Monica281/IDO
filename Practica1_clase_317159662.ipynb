{
 "cells": [
  {
   "cell_type": "markdown",
   "id": "a7858836",
   "metadata": {
    "colab_type": "text",
    "id": "view-in-github"
   },
   "source": [
    "<a href=\"https://colab.research.google.com/github/AllisonOdette0901/SIDO_2024_2/blob/main/Practica1_clase.ipynb\" target=\"_parent\"><img src=\"https://colab.research.google.com/assets/colab-badge.svg\" alt=\"Open In Colab\"/></a>"
   ]
  },
  {
   "cell_type": "markdown",
   "id": "a28aab49-55bc-4733-87c7-5d35b1ad34dd",
   "metadata": {
    "id": "a28aab49-55bc-4733-87c7-5d35b1ad34dd"
   },
   "source": [
    "# Ejercicios. Búsqueda local y exhaustiva.\n",
    "\n"
   ]
  },
  {
   "cell_type": "markdown",
   "id": "3f44c9d8-2cad-41c2-8f68-bdec997e8421",
   "metadata": {},
   "source": [
    "Mónica Ángeles Sánchez 317159662"
   ]
  },
  {
   "cell_type": "markdown",
   "id": "6029f66c-5548-49e6-a928-a618bcc265f8",
   "metadata": {
    "id": "6029f66c-5548-49e6-a928-a618bcc265f8"
   },
   "source": [
    "**Ejercicio 1**\n",
    "\n",
    "Implementa una función que tome un grafo y una lista de vértices en un ciclo hamiltoniano, y devuelva el peso de este ciclo."
   ]
  },
  {
   "cell_type": "code",
   "execution_count": 1,
   "id": "965fb63b-ff2e-4752-b774-e5aa53bd2ade",
   "metadata": {
    "id": "965fb63b-ff2e-4752-b774-e5aa53bd2ade"
   },
   "outputs": [],
   "source": [
    "# paqueterías con las que se trabajan en todo el ejercicio\n",
    "import networkx as nx\n",
    "import math"
   ]
  },
  {
   "cell_type": "code",
   "execution_count": 2,
   "id": "ab27f4c7-25a6-4b32-868f-e84a3eab6817",
   "metadata": {
    "id": "ab27f4c7-25a6-4b32-868f-e84a3eab6817"
   },
   "outputs": [],
   "source": [
    "# Esta función retorna el peso de un ciclo\n",
    "# No olvides que debes añadir la última arista donde se conectan el último vértice con el primero de la lista\n",
    "# Si necesitas obtener el peso de una arista entre dos vértices u y v, puedes hacerlo mediante g[u][v]['weight']\n",
    "def cycle_length(g, cycle):\n",
    "    # Checamos si el número de vértices en la gráfica es igual al número de vértices en el ciclo\n",
    "    assert len(cycle) == g.number_of_nodes()\n",
    "\n",
    "    peso_ciclo=0\n",
    "    for i in range(len(cycle) - 1):\n",
    "        \n",
    "        # Definimos los vértices u y v \n",
    "        u = cycle[i]\n",
    "        v = cycle[i + 1]\n",
    "\n",
    "        # Sumamos el peso de la arista entre los vértices u y v\n",
    "        peso_ciclo += g[u][v]['weight']\n",
    "\n",
    "    # Añadimos el peso de la última arista donde se conectan el último vértice con el primero de la lista\n",
    "    peso_ciclo += g[cycle[-1]][cycle[0]]['weight']\n",
    "\n",
    "    # Retornamos el peso del ciclo\n",
    "    return peso_ciclo"
   ]
  },
  {
   "cell_type": "code",
   "execution_count": 3,
   "id": "eb2a2755-2452-4b2d-9e16-60daeb7a877d",
   "metadata": {
    "id": "eb2a2755-2452-4b2d-9e16-60daeb7a877d"
   },
   "outputs": [],
   "source": [
    "# Aquí hay un ejemplo para probar tu código\n",
    "# Creamos un objeto gráfica vacío\n",
    "g = nx.Graph()\n",
    "# Agregamos 6 aristas y 4 vértices\n",
    "g.add_edge(0, 1, weight = 2)\n",
    "# Se trabajaran con aristas no dirigidas, entonces si agregamos la arista de u a v, automáticamente se agrega de v a u\n",
    "g.add_edge(1, 2, weight = 2)\n",
    "g.add_edge(2, 3, weight = 2)\n",
    "g.add_edge(3, 0, weight = 2)\n",
    "g.add_edge(0, 2, weight = 1)\n",
    "g.add_edge(1, 3, weight = 1)\n"
   ]
  },
  {
   "cell_type": "code",
   "execution_count": 4,
   "id": "fa373204-8fdc-4328-9ca2-d7b0be5c7c43",
   "metadata": {
    "id": "fa373204-8fdc-4328-9ca2-d7b0be5c7c43"
   },
   "outputs": [
    {
     "data": {
      "text/plain": [
       "8"
      ]
     },
     "execution_count": 4,
     "metadata": {},
     "output_type": "execute_result"
    }
   ],
   "source": [
    "# Ahora vamos a calcular el peso de estos dos ciclos:\n",
    "cycle1 = [0, 1, 2, 3]\n",
    "cycle_length(g, cycle1)"
   ]
  },
  {
   "cell_type": "code",
   "execution_count": 5,
   "id": "23ecbc80-8e5f-4dbe-9b94-2c850b3e5ed4",
   "metadata": {
    "id": "23ecbc80-8e5f-4dbe-9b94-2c850b3e5ed4"
   },
   "outputs": [
    {
     "data": {
      "text/plain": [
       "6"
      ]
     },
     "execution_count": 5,
     "metadata": {},
     "output_type": "execute_result"
    }
   ],
   "source": [
    "cycle2 = [0, 2, 1, 3]\n",
    "cycle_length(g, cycle2)"
   ]
  },
  {
   "cell_type": "markdown",
   "id": "185969c8-274e-45ca-8acc-cfc2d5cf87ee",
   "metadata": {
    "id": "185969c8-274e-45ca-8acc-cfc2d5cf87ee"
   },
   "source": [
    "¿Cuál es el peso de los dos ciclos?"
   ]
  },
  {
   "cell_type": "markdown",
   "id": "90b413bf-f318-4efe-beae-4b986292c001",
   "metadata": {},
   "source": [
    "El peso del ciclo 1 es 8 y el peso del ciclo 2 es 6"
   ]
  },
  {
   "cell_type": "markdown",
   "id": "d059d231-2cb1-447a-97c4-f477f444f5f2",
   "metadata": {
    "id": "d059d231-2cb1-447a-97c4-f477f444f5f2"
   },
   "source": [
    "## Búsqueda exhaustiva\n",
    "\n",
    "**Ejercicio 2.**\n",
    "\n",
    "Implementa el algoritmo de búsqueda exhaustiva para el Problema de agente vaijeroo. El algoritmo debe comprobar todas las permutaciones de los vértices y devolver el peso mínimo de un ciclo que visite cada vértice exactamente una vez."
   ]
  },
  {
   "cell_type": "code",
   "execution_count": 6,
   "id": "e41c255f-dcaf-48b9-956d-3c4641e37e3c",
   "metadata": {
    "id": "e41c255f-dcaf-48b9-956d-3c4641e37e3c"
   },
   "outputs": [],
   "source": [
    "# Paquetería que vas a utilizar (googlea la función que tiene)\n",
    "import itertools"
   ]
  },
  {
   "cell_type": "code",
   "execution_count": 7,
   "id": "ea0a7241-47e2-43f4-8878-256229edc6a0",
   "metadata": {
    "id": "ea0a7241-47e2-43f4-8878-256229edc6a0"
   },
   "outputs": [],
   "source": [
    "# La función all_permutations recibe un objeto gráfica g\n",
    "# La gráfica es completa, no dirigida y sin ciclos\n",
    "# La función debe retornar el PESO del ciclo hamiltoniano más corto\n",
    "# No olvides añadir la última arista que conecta al último vértice con el primero.\n",
    "# Debes iterar a través de todas las permutaciones del conjunto {0, ..., n-1} y encontrar el ciclo de menor peso\n",
    "\n",
    "def all_permutations(g):\n",
    "    # n es el número de vértices\n",
    "    n = g.number_of_nodes()\n",
    "    # lista de vértices\n",
    "    vertices=list(g.nodes())\n",
    "    # Indicamos que el peso minimo es infinito para que funcione correctamente\n",
    "    peso_minimo=float('inf')\n",
    "    # Itera a través de todas las permutaciones\n",
    "    permutations = itertools.permutations(range(n))\n",
    "    # Itera a través de todos los n vértices\n",
    "    for p in permutations:\n",
    "        # Indicamos en qué ciclo estamos\n",
    "        ciclo_actual=[vertices[i] for i in p]\n",
    "        # Indicamos el peso del ciclo en el que estamos\n",
    "        peso_ciclo_actual = cycle_length(g, ciclo_actual)\n",
    "        # Buscamos qué ciclo tiene menor peso\n",
    "        peso_minimo=min(peso_ciclo_actual,peso_minimo)\n",
    "    #Obtenemos el ciclo de menor peso\n",
    "    return peso_minimo"
   ]
  },
  {
   "cell_type": "markdown",
   "id": "afc8320b-2687-4218-b30f-5bd18d426620",
   "metadata": {
    "id": "afc8320b-2687-4218-b30f-5bd18d426620"
   },
   "source": [
    "Ahora pruebalo para g. ¿Cuál es la distancia del mínimo ciclo hamiltoniano?"
   ]
  },
  {
   "cell_type": "code",
   "execution_count": 8,
   "id": "46538375-b99c-428a-be42-d77ebeb7e02a",
   "metadata": {},
   "outputs": [
    {
     "data": {
      "text/plain": [
       "6"
      ]
     },
     "execution_count": 8,
     "metadata": {},
     "output_type": "execute_result"
    }
   ],
   "source": [
    "all_permutations(g)"
   ]
  },
  {
   "cell_type": "markdown",
   "id": "dbb0c1dc-6214-455c-b2d5-bb37e047ff45",
   "metadata": {},
   "source": [
    "La distancia del mínimo ciclo hamiltoniano es 6"
   ]
  },
  {
   "cell_type": "markdown",
   "id": "48edc4d9-c011-4f7b-9633-243b9bbdc94a",
   "metadata": {
    "id": "48edc4d9-c011-4f7b-9633-243b9bbdc94a"
   },
   "source": [
    "## Gráfica del resultado.\n",
    "\n",
    "Utiliza la función all_permutations para ahora obtener el ciclo hamiltoniano"
   ]
  },
  {
   "cell_type": "code",
   "execution_count": 9,
   "id": "mFcUX0uyxeVp",
   "metadata": {
    "id": "mFcUX0uyxeVp"
   },
   "outputs": [],
   "source": [
    "# Coloca aquí la función all_permutations modificada\n",
    "def all_permutations(g):\n",
    "    # n es el número de vértices\n",
    "    n = g.number_of_nodes()\n",
    "    # lista de vértices\n",
    "    vertices=list(g.nodes())\n",
    "    # Indicamos que el peso minimo es infinito para que funcione correctamente\n",
    "    peso_minimo=float('inf')\n",
    "    # Itera a través de todas las permutaciones\n",
    "    permutations = itertools.permutations(range(n))\n",
    "    # Indicamos que no hay un mejor ciclo\n",
    "    mejor_ciclo = None\n",
    "    # Itera a través de todos los n vértices\n",
    "    for p in permutations:\n",
    "        # Indicamos en qué ciclo estamos\n",
    "        ciclo_actual=[vertices[i] for i in p]\n",
    "        # Indicamos el peso del ciclo en el que estamos\n",
    "        peso_ciclo_actual = cycle_length(g, ciclo_actual)\n",
    "        # Verificamos si el ciclo en el que estamos tiene menor peso y por lo tanto será el mejor ciclo\n",
    "        if peso_ciclo_actual < peso_minimo:\n",
    "            peso_minimo = peso_ciclo_actual\n",
    "            mejor_ciclo = ciclo_actual\n",
    "    return mejor_ciclo"
   ]
  },
  {
   "cell_type": "code",
   "execution_count": 10,
   "id": "726f7839-c5e1-401e-822d-a97f7ec654ce",
   "metadata": {
    "id": "726f7839-c5e1-401e-822d-a97f7ec654ce"
   },
   "outputs": [],
   "source": [
    "# paquetería\n",
    "import matplotlib.pyplot as plot"
   ]
  },
  {
   "cell_type": "code",
   "execution_count": 11,
   "id": "23d20d9d-211a-4bc8-9de9-ee2171d3f891",
   "metadata": {},
   "outputs": [],
   "source": [
    "#  Calculamos la distancia entre dos puntos\n",
    "def dist(x1, y1, x2, y2):\n",
    "    return math.sqrt((x1 - x2) ** 2 + (y1 - y2) ** 2)\n",
    "\n",
    "# Función que recibe una lista de 2 tuplas que son las coordenadas\n",
    "# y retornamos la gráfica correspondiente\n",
    "def get_graph(coordinates):\n",
    "    g = nx.Graph()\n",
    "    n = len(coordinates)\n",
    "    for i in range(n):\n",
    "        for j in range(i + 1):\n",
    "            g.add_edge(i, j, weight=dist(coordinates[i][0], coordinates[i][1], coordinates[j][0], coordinates[j][1]))\n",
    "    return g"
   ]
  },
  {
   "cell_type": "code",
   "execution_count": 12,
   "id": "0c176c40-3d21-4a35-8a99-580ee487f53d",
   "metadata": {
    "id": "0c176c40-3d21-4a35-8a99-580ee487f53d"
   },
   "outputs": [],
   "source": [
    "# Esta función recibe\n",
    "# 1. una lista de coordenadas (x,y) de g\n",
    "# 2. un ciclo a visualizar\n",
    "def plot_cycle(coordinates, cycle):\n",
    "    # Calcula las coordinadas 'x' y 'y' en el orden de acuerdo al ciclo\n",
    "    x_coordinates = [coordinates[i][0] for i in cycle]\n",
    "    y_coordinates = [coordinates[i][1] for i in cycle]\n",
    "\n",
    "    # Añadimos el primer vértice para cerrar el ciclo\n",
    "    x_coordinates.append(coordinates[cycle[0]][0])\n",
    "    y_coordinates.append(coordinates[cycle[0]][1])\n",
    "\n",
    "    plot.plot(x_coordinates, y_coordinates, 'xb-', )\n",
    "    plot.show()"
   ]
  },
  {
   "cell_type": "code",
   "execution_count": 13,
   "id": "83b3da66-9b0b-41dc-adb1-9acdaffcab0d",
   "metadata": {
    "id": "83b3da66-9b0b-41dc-adb1-9acdaffcab0d"
   },
   "outputs": [
    {
     "data": {
      "image/png": "[encoded data removed]",
      "text/plain": [
       "<Figure size 640x480 with 1 Axes>"
      ]
     },
     "metadata": {},
     "output_type": "display_data"
    }
   ],
   "source": [
    "# Considera los siguientes 5 puntos\n",
    "coordenadas = [\n",
    "    (284, 87),\n",
    "    (183, 254),\n",
    "    (113, 185),\n",
    "    (159, 38),\n",
    "    (271, 257)\n",
    "    ]\n",
    "# Creamos la gráfica\n",
    "g1 = get_graph(coordenadas)\n",
    "# utiliza la función modificada para obtener el ciclo y guardarlo aquí\n",
    "cycle = all_permutations(g1)\n",
    "# graficamos el resultado\n",
    "plot_cycle(coordenadas, cycle)"
   ]
  }
 ],
 "metadata": {
  "colab": {
   "include_colab_link": true,
   "provenance": []
  },
  "kernelspec": {
   "display_name": "Python 3 (ipykernel)",
   "language": "python",
   "name": "python3"
  },
  "language_info": {
   "codemirror_mode": {
    "name": "ipython",
    "version": 3
   },
   "file_extension": ".py",
   "mimetype": "text/x-python",
   "name": "python",
   "nbconvert_exporter": "python",
   "pygments_lexer": "ipython3",
   "version": "3.11.6"
  }
 },
 "nbformat": 4,
 "nbformat_minor": 5
}
