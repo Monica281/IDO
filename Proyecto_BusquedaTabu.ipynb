{
 "cells": [
  {
   "cell_type": "markdown",
   "id": "6b7d73f1-78c4-4ca5-9128-ecb97262c1f3",
   "metadata": {},
   "source": [
    "# Proyecto Final"
   ]
  },
  {
   "cell_type": "markdown",
   "id": "5d0d4403-788b-41dd-ad5e-817e08305104",
   "metadata": {},
   "source": [
    "#### Mónica Ángeles Sánchez 317159662"
   ]
  },
  {
   "cell_type": "code",
   "execution_count": 135,
   "id": "75158c81-a0e4-453b-bd31-455c88c9a071",
   "metadata": {},
   "outputs": [],
   "source": [
    "# Biblioteca:\n",
    "import numpy as np\n",
    "import random\n",
    "import networkx as nx\n",
    "import matplotlib.pyplot as plot\n",
    "import math"
   ]
  },
  {
   "cell_type": "code",
   "execution_count": 136,
   "id": "4c2e5f69-92b2-4c00-b0f1-a859bfbadccc",
   "metadata": {},
   "outputs": [],
   "source": [
    "# Creamos una función que genera una solución aleatoria asignando un color aleatorio a cada vértice.\n",
    "\n",
    "def solucion_aleatoria(num_vertices):\n",
    "    rand = random.Random(42)\n",
    "    solucion = []\n",
    "    for i in range(num_vertices):\n",
    "        color = rand.randint(1, num_vertices)\n",
    "        solucion.append(color)\n",
    "    return solucion"
   ]
  },
  {
   "cell_type": "code",
   "execution_count": 137,
   "id": "e6c12cef-fb85-4b6d-a194-064091bee579",
   "metadata": {},
   "outputs": [],
   "source": [
    "# Creamos una función que genera una solución vecina modificando el color de un vértice\n",
    "# seleccionado aleatoriamente asegurándose de que la nueva solución cumpla con las\n",
    "# restricciones del problema, es decir, que ningún vértice adyacente tenga el mismo color.\n",
    "\n",
    "def generar_solucion_vecina(solucion_actual, matriz_adyacencia, num_vertices):\n",
    "    solucion_vecina = solucion_actual[:]\n",
    "    rand = random.Random()\n",
    "    # Seleccionamos un vértice aleatorio\n",
    "    vertice = rand.randint(0, num_vertices - 1)\n",
    "    # Inicializa una lista para ver qué colores ya están asignados a los vértices adyacentes\n",
    "    colores_usados = [False] * (num_vertices + 1)\n",
    "    for i in range(num_vertices):\n",
    "        # Si el vértice aleatorio y el vértice i son adyacentes, \n",
    "        # indicamos que el color solucion_actual[i] está siendo utilizado \n",
    "        if matriz_adyacencia[vertice][i] == 1:\n",
    "            colores_usados[solucion_actual[i]] = True\n",
    "\n",
    "    # Almacena la frecuencia de colores y el color\n",
    "    frecuencias_colores = [[i, 0] for i in range(num_vertices + 1)]\n",
    "\n",
    "    # Cuenta la frecuencia de cada color en la solución actual\n",
    "    for color in solucion_actual:\n",
    "        if color != 0:\n",
    "            frecuencias_colores[color][1] += 1\n",
    "\n",
    "    # Ordena los colores por su frecuencia de mayor a menor\n",
    "    frecuencias_colores.sort(key=lambda x: x[1], reverse=True)\n",
    "\n",
    "    # Intentar asignar el color más frecuente, luego el segundo más frecuente, y así sucesivamente\n",
    "    for i in range(num_vertices):\n",
    "        color_candidato = frecuencias_colores[i][0]\n",
    "        if not colores_usados[color_candidato]:\n",
    "            solucion_vecina[vertice] = color_candidato\n",
    "            break\n",
    "    # Regresa un arreglo de enteros que representan los colores de la solución vecina\n",
    "    return solucion_vecina"
   ]
  },
  {
   "cell_type": "code",
   "execution_count": 138,
   "id": "bad4993e-02bb-4e76-9629-d49059fe525e",
   "metadata": {},
   "outputs": [],
   "source": [
    "# Creamos una función que toma como entrada una solución dada, que es una lista de colores\n",
    "# asignados a cada vértice de una gráfica, y devuelve el número total de colores distintos \n",
    "# utilizados en esa solución para colorear la gráfica.\n",
    "\n",
    "def evaluar_solucion(solucion):\n",
    "    colores_usados = [False] * (num_vertices + 1)\n",
    "    total_colores = 0\n",
    "    # Itera sobre la solución, marca los colores ya utilizados y cuenta el número de apariciones\n",
    "    for color in solucion:\n",
    "        if not colores_usados[color]:\n",
    "            colores_usados[color] = True\n",
    "            total_colores += 1\n",
    "    # Regresa el número de colores utilizados para colorear la gráfica\n",
    "    return total_colores"
   ]
  },
  {
   "cell_type": "code",
   "execution_count": 139,
   "id": "0b9c3f7c-e9b2-4c0d-99bc-b83d26e9bf11",
   "metadata": {},
   "outputs": [],
   "source": [
    "def busqueda_tabu(matriz_adyacencia, num_vertices, max_iteraciones, tam_tabu):\n",
    "    mejor_solucion = solucion_aleatoria(num_vertices)\n",
    "    mejor_valor_fo = evaluar_solucion(mejor_solucion)\n",
    "    lista_tabu = []\n",
    "    iteracion_actual = 0\n",
    "\n",
    "    while iteracion_actual < max_iteraciones:\n",
    "        vecinos = [generar_solucion_vecina(sol_inicial, matriz_adyacencia, num_vertices) for _ in range(5)]\n",
    "        valores_fo = [evaluar_solucion(vecino) for vecino in vecinos]\n",
    "        mejor_vecino = None\n",
    "        mejor_valor_vecino = float('inf')\n",
    "\n",
    "        for vecino, valor_fo in zip(vecinos, valores_fo):\n",
    "            if vecino not in lista_tabu:\n",
    "                if valor_fo < mejor_valor_vecino:\n",
    "                    mejor_vecino = vecino\n",
    "                    mejor_valor_vecino = valor_fo\n",
    "\n",
    "        if mejor_vecino is None:\n",
    "            break  # No se encontraron movimientos no tabú, terminar la búsqueda\n",
    "\n",
    "        mejor_solucion = mejor_vecino\n",
    "        mejor_valor_fo = mejor_valor_vecino\n",
    "        lista_tabu.append(mejor_vecino)\n",
    "        \n",
    "        if len(lista_tabu) > tam_tabu:\n",
    "            lista_tabu.pop(0)  # Eliminar el movimiento más antiguo de la lista tabú\n",
    "\n",
    "        iteracion_actual += 1\n",
    "\n",
    "    return mejor_solucion, mejor_valor_fo\n"
   ]
  },
  {
   "cell_type": "code",
   "execution_count": 150,
   "id": "b883a5a4-7ee1-46ad-9e87-75be4c7fa03d",
   "metadata": {},
   "outputs": [],
   "source": [
    "# EJEMPLO \n",
    "# Definimos la matriz de adyacencia como una lista de listas\n",
    "# La matriz de adyacencia representa una gráfica no dirigida con 10 vértices. \n",
    "# Cada fila de la matriz corresponde a un vértice, y el valor en la posición [i][j] indica si hay una arista \n",
    "# entre el vértice i y el vértice j (1 si hay una arista, 0 si no la hay).\n",
    "\n",
    "matriz_adyacencia = [\n",
    "    [0, 1, 1, 0, 0, 1, 0, 0, 0, 1], # Vértice 0\n",
    "    [1, 0, 0, 1, 0, 1, 0, 0, 1, 0], # Vértice 1\n",
    "    [1, 0, 0, 0, 1, 0, 0, 1, 0, 0], # Vértice 2\n",
    "    [0, 1, 0, 0, 0, 0, 1, 0, 1, 0], # Vértice 3\n",
    "    [0, 0, 1, 0, 0, 0, 0, 1, 0, 1], # Vértice 4\n",
    "    [1, 1, 0, 0, 0, 0, 0, 0, 1, 0], # Vértice 5\n",
    "    [0, 0, 0, 1, 0, 0, 0, 1, 0, 1], # Vértice 6\n",
    "    [0, 0, 1, 0, 1, 0, 1, 0, 0, 0], # Vértice 7\n",
    "    [0, 1, 0, 1, 0, 1, 0, 0, 0, 0], # Vértice 8\n",
    "    [1, 0, 0, 0, 1, 0, 1, 0, 0, 0] # Vértice 9\n",
    "]\n",
    "\n",
    "# Definimos el número de vértices\n",
    "num_vertices = len(matriz_adyacencia)\n",
    "\n",
    "# Definimos como criterio de paro un número máximo de iteraciones \n",
    "max_iteraciones = 100\n",
    "\n",
    "# Definimos el número de iteraciones que permanecerá en la lista tabú.\n",
    "tam_tabu = 5"
   ]
  },
  {
   "cell_type": "code",
   "execution_count": 158,
   "id": "903d8094-2a7c-47aa-a1c8-75a67b0a5bfc",
   "metadata": {},
   "outputs": [
    {
     "data": {
      "text/plain": [
       "([4, 6, 7, 3, 4, 3, 2, 3, 4, 9], 6)"
      ]
     },
     "execution_count": 158,
     "metadata": {},
     "output_type": "execute_result"
    }
   ],
   "source": [
    "# Ejecutamos la búsqueda tabu\n",
    "busqueda_tabu(matriz_adyacencia, num_vertices, max_iteraciones, tam_tabu)"
   ]
  },
  {
   "cell_type": "code",
   "execution_count": 159,
   "id": "4d32099a-8dcc-4dfa-89e8-074270271679",
   "metadata": {},
   "outputs": [],
   "source": [
    "solucion_final = busqueda_tabu(matriz_adyacencia, num_vertices, max_iteraciones, tam_tabu)[0]"
   ]
  },
  {
   "cell_type": "code",
   "execution_count": 161,
   "id": "a846e7b2-c268-45f1-9313-82e798748b6b",
   "metadata": {},
   "outputs": [
    {
     "data": {
      "image/png": "[encoded data removed]",
      "text/plain": [
       "<Figure size 640x480 with 1 Axes>"
      ]
     },
     "metadata": {},
     "output_type": "display_data"
    }
   ],
   "source": [
    "# Graficamos la solución obtenida\n",
    "\n",
    "import matplotlib.pyplot as plt\n",
    "\n",
    "# Creamos la función para dibujar la gráfica \n",
    "def dibujar_grafica(matriz_adyacencia, solucion_final):\n",
    "    G = nx.Graph()\n",
    "    # Se agrega cada vértice de la matriz como un nodo a la gráfica\n",
    "    for i in range(len(matriz_adyacencia)):\n",
    "        G.add_node(i)\n",
    "    # Se agrega una arista entre los vértices i y j si la hay \n",
    "    for i in range(len(matriz_adyacencia)):\n",
    "        for j in range(i + 1, len(matriz_adyacencia[i])):\n",
    "            if matriz_adyacencia[i][j] == 1:\n",
    "                G.add_edge(i, j)\n",
    "\n",
    "    # Se asignan colores a los nodos según la solución final\n",
    "    colors = [solucion_final[node] for node in G.nodes()]\n",
    "\n",
    "    # Dibujamos la gráfica \n",
    "    pos = nx.spring_layout(G)\n",
    "    nx.draw(G, pos, with_labels=True, node_color=colors, cmap=plt.cm.rainbow, node_size=500)\n",
    "    plt.show()\n",
    "\n",
    "# Dibujar la gráfica con la solución final\n",
    "dibujar_grafica(matriz_adyacencia, solucion_final)"
   ]
  }
 ],
 "metadata": {
  "kernelspec": {
   "display_name": "Python 3 (ipykernel)",
   "language": "python",
   "name": "python3"
  },
  "language_info": {
   "codemirror_mode": {
    "name": "ipython",
    "version": 3
   },
   "file_extension": ".py",
   "mimetype": "text/x-python",
   "name": "python",
   "nbconvert_exporter": "python",
   "pygments_lexer": "ipython3",
   "version": "3.11.6"
  }
 },
 "nbformat": 4,
 "nbformat_minor": 5
}
